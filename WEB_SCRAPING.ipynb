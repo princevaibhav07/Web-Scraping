{
 "cells": [
  {
   "cell_type": "markdown",
   "id": "698cc7bc",
   "metadata": {},
   "source": [
    "# Assignment"
   ]
  },
  {
   "cell_type": "markdown",
   "id": "7322cc85",
   "metadata": {},
   "source": [
    "# Problem 1 : Print the data of first 3 movies\n",
    "    \n",
    "From this https://www.imdb.com/search/title/?release_date=2018&sort=num_votes,desc&page=1&ref_=adv_nxt link,\n",
    "Find and print the name of the first 3 titles"
   ]
  },
  {
   "cell_type": "code",
   "execution_count": 33,
   "id": "eb12187e",
   "metadata": {},
   "outputs": [
    {
     "name": "stdout",
     "output_type": "stream",
     "text": [
      "Avengers: Infinity War\n",
      "Black Panther\n",
      "Spider-Man: Into the Spider-Verse\n"
     ]
    }
   ],
   "source": [
    "from bs4 import BeautifulSoup\n",
    "import requests\n",
    "\n",
    "url = 'https://www.imdb.com/search/title/?release_date=2018-01-01,2018-12-31&sort=num_votes,desc'\n",
    "headers = {\n",
    "    'User-Agent': 'Mozilla/5.0 (Windows NT 10.0; Win64; x64) AppleWebKit/537.36 (KHTML, like Gecko) Chrome/91.0.4472.124 Safari/537.36'\n",
    "}\n",
    "\n",
    "response = requests.get(url, headers=headers)\n",
    "if response.status_code == 200:\n",
    "    soup = BeautifulSoup(response.content, 'html.parser')\n",
    "    movies = soup.find_all('h3', class_='ipc-title__text')\n",
    "    for movie in movies[:3]:\n",
    "        print(movie.string.split('.')[1].strip())"
   ]
  },
  {
   "cell_type": "markdown",
   "id": "fd42bc94",
   "metadata": {},
   "source": [
    "# Problem 2 : titles with most votes\n",
    "Link to use https://www.imdb.com/search/title/?release_date=2018&sort=num_votes,desc&page=1&ref_=adv_nxt\n",
    "Print the names of movies with highest number of votes from year 2010 to 2014\n",
    "Note : Print the titles line wise starting from year 2010"
   ]
  },
  {
   "cell_type": "code",
   "execution_count": 80,
   "id": "a662718a",
   "metadata": {},
   "outputs": [
    {
     "name": "stdout",
     "output_type": "stream",
     "text": [
      "Inception\n",
      "Game of Thrones\n",
      "The Dark Knight Rises\n",
      "The Wolf of Wall Street\n",
      "Interstellar\n"
     ]
    }
   ],
   "source": [
    "from bs4 import BeautifulSoup\n",
    "import requests\n",
    "\n",
    "urls = [\n",
    "    'https://www.imdb.com/search/title/?release_date=2010-01-01,2010-12-31&sort=num_votes,desc',\n",
    "    'https://www.imdb.com/search/title/?release_date=2011-01-01,2011-12-31&sort=num_votes,desc',\n",
    "    'https://www.imdb.com/search/title/?release_date=2012-01-01,2012-12-31&sort=num_votes,desc',\n",
    "    'https://www.imdb.com/search/title/?release_date=2013-01-01,2013-12-31&sort=num_votes,desc',\n",
    "    'https://www.imdb.com/search/title/?release_date=2014-01-01,2014-12-31&sort=num_votes,desc'\n",
    "]\n",
    "\n",
    "headers = {\n",
    "    'User-Agent': 'Mozilla/5.0 (Windows NT 10.0; Win64; x64) AppleWebKit/537.36 (KHTML, like Gecko) Chrome/91.0.4472.124 Safari/537.36',\n",
    "    'Referer': 'https://www.imdb.com/',\n",
    "    'Accept-Language': 'en-US,en;q=0.5'\n",
    "}\n",
    "\n",
    "for url in urls:\n",
    "    response = requests.get(url, headers=headers)\n",
    "    data = BeautifulSoup(response.text, \"html.parser\")\n",
    "    titles = data.find_all('h3', class_='ipc-title__text')\n",
    "    if titles:  # Check if titles are found\n",
    "        print(titles[0].string.split(\". \")[1].strip())  # Print the text of the first title\n",
    "    else:\n",
    "        print(\"No titles found on the page.\")\n"
   ]
  },
  {
   "cell_type": "markdown",
   "id": "d0c24db6",
   "metadata": {},
   "source": [
    "# Problem 3 : Title with maximum duration\n",
    "Link to use https://www.imdb.com/search/title/?release_date=2018&sort=num_votes,desc&page=1&ref_=adv_nxt\n",
    "Out of the first 250 titles with highest number of votes in 2018,find which title has the maximum duration."
   ]
  },
  {
   "cell_type": "code",
   "execution_count": 85,
   "id": "17b435af",
   "metadata": {},
   "outputs": [
    {
     "name": "stdout",
     "output_type": "stream",
     "text": [
      "0 -1\n"
     ]
    }
   ],
   "source": [
    "from bs4 import BeautifulSoup\n",
    "import requests\n",
    "import time\n",
    "from random import randint\n",
    "dct = {}\n",
    "for i in range(1,202,50):\n",
    "    res = requests.get(f'https://www.imdb.com/search/title?release_date=2018&sort=num_votes,desc&page={i}&ref_=adv_nxt')\n",
    "\n",
    "    data = BeautifulSoup(res.text,\"html.parser\")\n",
    "    tags = data.find_all('div',class_='lister-item')\n",
    "    for j in tags:\n",
    "        if j.find('span',class_='runtime'):\n",
    "            head = j.find('h3',class_='lister-item-header')\n",
    "            dur = j.find('span',class_='runtime')\n",
    "            t= int(dur.text.strip().split(' ')[0])\n",
    "            dct[head.a.string] = t\n",
    "    time.sleep(randint(0,3))\n",
    "maxdur = -1\n",
    "maxnum = 0\n",
    "for k,v in dct.items():\n",
    "    if v>maxdur:\n",
    "        maxdur = v\n",
    "        maxname = k\n",
    "print(maxnum,maxdur)"
   ]
  },
  {
   "cell_type": "markdown",
   "id": "1275c43f",
   "metadata": {},
   "source": [
    "# Problem 4 : Image with maximum Area \n",
    "Find and print the src of the <img> tag which occupies the maximum area on the page.\n",
    "Note :\n",
    "Ignore images which doesn't have height or width attributes\n",
    "Output Format :\n",
    "src_of_image"
   ]
  },
  {
   "cell_type": "code",
   "execution_count": 86,
   "id": "6ba2565f",
   "metadata": {},
   "outputs": [
    {
     "name": "stdout",
     "output_type": "stream",
     "text": [
      "//upload.wikimedia.org/wikipedia/commons/thumb/0/0e/SimpleBayesNet.svg/380px-SimpleBayesNet.svg.png\n"
     ]
    }
   ],
   "source": [
    "from bs4 import BeautifulSoup\n",
    "import requests\n",
    "\n",
    "response = requests.get('https://en.wikipedia.org/wiki/Artificial_intelligence')\n",
    "data = BeautifulSoup(response.text,\"html.parser\")\n",
    "all_tag = data.find_all('img')\n",
    "max_area = -1\n",
    "url = ''\n",
    "for i in all_tag :\n",
    "    if i.has_attr('height') and i.has_attr('width'):\n",
    "        if int(i['height']) * int(i['width']) > max_area:\n",
    "            max_area = int(i['height']) * int(i['width'])\n",
    "            url = i['src']\n",
    "print(url)"
   ]
  },
  {
   "cell_type": "markdown",
   "id": "7a2469c8",
   "metadata": {},
   "source": [
    "# Problem 6 : Quotes with tag humor\n",
    "Find all the quotes that have the tag as \"humor\" from this website http://quotes.toscrape.com/"
   ]
  },
  {
   "cell_type": "code",
   "execution_count": 87,
   "id": "df3be4a6",
   "metadata": {},
   "outputs": [
    {
     "name": "stdout",
     "output_type": "stream",
     "text": [
      "“The person, be it gentleman or lady, who has not pleasure in a good novel, must be intolerably stupid.”\n",
      "“A day without sunshine is like, you know, night.”\n",
      "“Anyone who thinks sitting in church can make you a Christian must also think that sitting in a garage can make you a car.”\n",
      "“Beauty is in the eye of the beholder and it may be necessary from time to time to give a stupid or misinformed beholder a black eye.”\n",
      "“All you need is love. But a little chocolate now and then doesn't hurt.”\n",
      "“Remember, we're madly in love, so it's all right to kiss me anytime you feel like it.”\n",
      "“Some people never go crazy. What truly horrible lives they must lead.”\n",
      "“The trouble with having an open mind, of course, is that people will insist on coming along and trying to put things in it.”\n",
      "“Think left and think right and think low and think high. Oh, the thinks you can think up if only you try!”\n",
      "“The reason I talk to myself is because I’m the only one whose answers I accept.”\n",
      "“I am free of all prejudice. I hate everyone equally. ”\n",
      "“A lady's imagination is very rapid; it jumps from admiration to love, from love to matrimony in a moment.”\n"
     ]
    }
   ],
   "source": [
    "import requests\n",
    "from bs4 import BeautifulSoup\n",
    "\n",
    "all_urls = ['http://quotes.toscrape.com/']\n",
    "base = 'http://quotes.toscrape.com/'\n",
    "\n",
    "response = requests.get(base)\n",
    "next_url=''\n",
    "q_st=[]\n",
    "t_st=[]\n",
    "\n",
    "while response.status_code == 200 :\n",
    "    \n",
    "    data = BeautifulSoup(response.text, 'html.parser')\n",
    "    next_page= data.find(class_='next')\n",
    "    q =  data.find_all(class_ = 'quote')\n",
    "    for i in range(len(q)):\n",
    "        temp = []\n",
    "        txt = q[i].find(class_='text')\n",
    "        tag = q[i].find_all('a',class_='tag')\n",
    "        #print(txt.text.strip())\n",
    "        for j in range(len(tag)):\n",
    "            #print(tag[j].text.strip())\n",
    "            temp.append(tag[j].text.strip())\n",
    "\n",
    "        if 'humor' in temp:\n",
    "            q_st.append(txt)\n",
    "            t_st.append(temp)\n",
    "    if data.find(class_ = 'next') is None : \n",
    "        break\n",
    "    \n",
    "    next_url=base+next_page.a['href']\n",
    "    all_urls.append(next_url)  \n",
    "    response = requests.get(next_url)\n",
    "\n",
    "for i in range(len(q_st)):\n",
    "    print(q_st[i].text.strip())"
   ]
  },
  {
   "cell_type": "markdown",
   "id": "02cbece0",
   "metadata": {},
   "source": [
    "# Problem 7 : Print all authors\n",
    "Find and print the names of all the different authors from all pages of this http://quotes.toscrape.com/ website\n",
    "Note : Print the names of all authors line wise sorted in dictionary order"
   ]
  },
  {
   "cell_type": "code",
   "execution_count": 88,
   "id": "eff052cd",
   "metadata": {},
   "outputs": [
    {
     "name": "stdout",
     "output_type": "stream",
     "text": [
      "Albert Einstein\n",
      "Alexandre Dumas fils\n",
      "Alfred Tennyson\n",
      "Allen Saunders\n",
      "André Gide\n",
      "Ayn Rand\n",
      "Bob Marley\n",
      "C.S. Lewis\n",
      "Charles Bukowski\n",
      "Charles M. Schulz\n",
      "Douglas Adams\n",
      "Dr. Seuss\n",
      "E.E. Cummings\n",
      "Eleanor Roosevelt\n",
      "Elie Wiesel\n",
      "Ernest Hemingway\n",
      "Friedrich Nietzsche\n",
      "Garrison Keillor\n",
      "George Bernard Shaw\n",
      "George Carlin\n",
      "George Eliot\n",
      "George R.R. Martin\n",
      "Harper Lee\n",
      "Haruki Murakami\n",
      "Helen Keller\n",
      "J.D. Salinger\n",
      "J.K. Rowling\n",
      "J.M. Barrie\n",
      "J.R.R. Tolkien\n",
      "James Baldwin\n",
      "Jane Austen\n",
      "Jim Henson\n",
      "Jimi Hendrix\n",
      "John Lennon\n",
      "Jorge Luis Borges\n",
      "Khaled Hosseini\n",
      "Madeleine L'Engle\n",
      "Marilyn Monroe\n",
      "Mark Twain\n",
      "Martin Luther King Jr.\n",
      "Mother Teresa\n",
      "Pablo Neruda\n",
      "Ralph Waldo Emerson\n",
      "Stephenie Meyer\n",
      "Steve Martin\n",
      "Suzanne Collins\n",
      "Terry Pratchett\n",
      "Thomas A. Edison\n",
      "W.C. Fields\n",
      "William Nicholson\n"
     ]
    }
   ],
   "source": [
    "import requests\n",
    "from bs4 import BeautifulSoup\n",
    "\n",
    "all_urls = ['http://quotes.toscrape.com/page/1/']\n",
    "base = 'http://quotes.toscrape.com'\n",
    "\n",
    "response = requests.get(all_urls[0])\n",
    "\n",
    "while response.status_code == 200 :\n",
    "    data = BeautifulSoup(response.text, 'html.parser')\n",
    "    if data.find(class_ = 'next') is None : \n",
    "        break\n",
    "        \n",
    "    url = data.find(class_ = 'next').a['href']\n",
    "    all_urls.append(base+url)  \n",
    "    response = requests.get(all_urls[-1])\n",
    "    \n",
    "auth_name = []\n",
    "for i in all_urls :\n",
    "    response = requests.get(i)\n",
    "    data = BeautifulSoup(response.text, 'html.parser')\n",
    "\n",
    "    for j in data.find_all(class_ = 'quote'):\n",
    "        name = j.find(class_ = 'author').string\n",
    "        if name not in auth_name:\n",
    "            auth_name.append(name)\n",
    "            \n",
    "for name in sorted(auth_name):\n",
    "    print(name)"
   ]
  },
  {
   "cell_type": "markdown",
   "id": "7685246f",
   "metadata": {},
   "source": [
    "# Problem 8 : Birth Date of authors\n",
    "Find the birth date of authors whose name start with 'J' from this http://quotes.toscrape.com/ website\n",
    "Note : Print a dictionary containing the name as key and the birth date as value.The Names of authors should be alphabetically sorted."
   ]
  },
  {
   "cell_type": "code",
   "execution_count": 90,
   "id": "11ce6581",
   "metadata": {},
   "outputs": [
    {
     "name": "stdout",
     "output_type": "stream",
     "text": [
      "{'J.D. Salinger': 'January 01, 1919', 'J.K. Rowling': 'July 31, 1965', 'J.M. Barrie': 'May 09, 1860', 'J.R.R. Tolkien': 'January 03, 1892', 'James Baldwin': 'August 02, 1924', 'Jane Austen': 'December 16, 1775', 'Jim Henson': 'September 24, 1936', 'Jimi Hendrix': 'November 27, 1942', 'John Lennon': 'October 09, 1940', 'Jorge Luis Borges': 'August 24, 1899'}\n"
     ]
    }
   ],
   "source": [
    "import requests\n",
    "from bs4 import BeautifulSoup\n",
    "\n",
    "authors = {}\n",
    "for i in range(1,11):\n",
    "    response = requests.get('http://quotes.toscrape.com/page/'+ str(i) + '/')\n",
    "    data = BeautifulSoup(response.text, 'html.parser')\n",
    "    for aut in data.select('.author') :\n",
    "        if aut.text[0] == 'J':\n",
    "            authors[aut.text] = aut.next_sibling.next_sibling['href']\n",
    "bdate ={}\n",
    "for author in sorted(authors) :\n",
    "    page = requests.get('http://quotes.toscrape.com'+ authors[author])\n",
    "    data = BeautifulSoup(page.text, 'html.parser')\n",
    "    for i in data.select('.author-born-date'):\n",
    "        bdate[author] = i.text\n",
    "print(bdate)"
   ]
  },
  {
   "cell_type": "markdown",
   "id": "f17063ac",
   "metadata": {},
   "source": [
    "# Problem 9 : Quotes by Albert Einstein\n",
    "Find all the quotes by Albert Einstein(in the order they appear on the page) from this website http://quotes.toscrape.com/\n",
    "Note : Fetch data from all the pages."
   ]
  },
  {
   "cell_type": "code",
   "execution_count": 89,
   "id": "7336fc46",
   "metadata": {},
   "outputs": [
    {
     "name": "stdout",
     "output_type": "stream",
     "text": [
      "“The world as we have created it is a process of our thinking. It cannot be changed without changing our thinking.”\n",
      "“There are only two ways to live your life. One is as though nothing is a miracle. The other is as though everything is a miracle.”\n",
      "“Try not to become a man of success. Rather become a man of value.”\n",
      "“If you can't explain it to a six year old, you don't understand it yourself.”\n",
      "“If you want your children to be intelligent, read them fairy tales. If you want them to be more intelligent, read them more fairy tales.”\n",
      "“Logic will get you from A to Z; imagination will get you everywhere.”\n",
      "“Any fool can know. The point is to understand.”\n",
      "“Life is like riding a bicycle. To keep your balance, you must keep moving.”\n",
      "“If I were not a physicist, I would probably be a musician. I often think in music. I live my daydreams in music. I see my life in terms of music.”\n",
      "“Anyone who has never made a mistake has never tried anything new.”\n"
     ]
    }
   ],
   "source": [
    "import requests\n",
    "from bs4 import BeautifulSoup\n",
    "\n",
    "all_urls = ['http://quotes.toscrape.com/page/1/']\n",
    "base = 'http://quotes.toscrape.com'\n",
    "\n",
    "response = requests.get(all_urls[0])\n",
    "\n",
    "while response.status_code == 200 :\n",
    "    data = BeautifulSoup(response.text, 'html.parser')\n",
    "    \n",
    "    if data.find(class_ = 'next') is None : \n",
    "        break\n",
    "        \n",
    "    url = data.find(class_ = 'next').a['href']\n",
    "    all_urls.append(base+url)  \n",
    "    response = requests.get(all_urls[-1])\n",
    "    \n",
    "for i in all_urls :\n",
    "    response = requests.get(i)\n",
    "    data = BeautifulSoup(response.text, 'html.parser')\n",
    "\n",
    "    for j in data.find_all(class_ = 'quote'):\n",
    "        s = j.find(class_ = 'author').string\n",
    "        if s == 'Albert Einstein' :\n",
    "            s= j.find(class_ = 'text').string\n",
    "            print(s)\n",
    "            "
   ]
  },
  {
   "cell_type": "markdown",
   "id": "c73048aa",
   "metadata": {},
   "source": [
    "# Problem statement\n",
    "Print the name of all categories which are present this website.\n",
    "https://books.toscrape.com/\n",
    "Output Format :\n",
    " Category1 Name\n",
    " Category2 Name"
   ]
  },
  {
   "cell_type": "code",
   "execution_count": 91,
   "id": "621e15b9",
   "metadata": {},
   "outputs": [
    {
     "name": "stdout",
     "output_type": "stream",
     "text": [
      "Travel\n",
      "Mystery\n",
      "Historical Fiction\n",
      "Sequential Art\n",
      "Classics\n",
      "Philosophy\n",
      "Romance\n",
      "Womens Fiction\n",
      "Fiction\n",
      "Childrens\n",
      "Religion\n",
      "Nonfiction\n",
      "Music\n",
      "Default\n",
      "Science Fiction\n",
      "Sports and Games\n",
      "Add a comment\n",
      "Fantasy\n",
      "New Adult\n",
      "Young Adult\n",
      "Science\n",
      "Poetry\n",
      "Paranormal\n",
      "Art\n",
      "Psychology\n",
      "Autobiography\n",
      "Parenting\n",
      "Adult Fiction\n",
      "Humor\n",
      "Horror\n",
      "History\n",
      "Food and Drink\n",
      "Christian Fiction\n",
      "Business\n",
      "Biography\n",
      "Thriller\n",
      "Contemporary\n",
      "Spirituality\n",
      "Academic\n",
      "Self Help\n",
      "Historical\n",
      "Christian\n",
      "Suspense\n",
      "Short Stories\n",
      "Novels\n",
      "Health\n",
      "Politics\n",
      "Cultural\n",
      "Erotica\n",
      "Crime\n"
     ]
    }
   ],
   "source": [
    "from bs4 import BeautifulSoup\n",
    "import requests\n",
    "response = requests.get('http://books.toscrape.com/')\n",
    "html_data = response.text\n",
    "data = BeautifulSoup(html_data, 'html.parser')\n",
    "cat = data.find(class_ = 'side_categories')\n",
    "c = cat.find_all('a')\n",
    "for i in c:\n",
    "    if i.string.strip() != \"Books\":\n",
    "        print(i.string.strip())"
   ]
  },
  {
   "cell_type": "markdown",
   "id": "9628edcb",
   "metadata": {},
   "source": [
    "# Problem statement\n",
    "Link to use: https://medium.com/codingninjas-blog\n",
    "\n",
    "Print the title of the first 5 blogs written by Coding Ninjas\n",
    "\n",
    "Note : Print the blog names line wise Output Format :\n",
    "blog_name_1\n",
    "blog_name_2"
   ]
  },
  {
   "cell_type": "code",
   "execution_count": 101,
   "id": "38e8cb04",
   "metadata": {},
   "outputs": [
    {
     "name": "stdout",
     "output_type": "stream",
     "text": [
      "Web Development Trends to watch out for in 2020\n",
      "Web Development: Interviews and You!\n",
      "Get equipped for the Technical Interviews\n",
      "Explore more about the projects in Web Development\n",
      "5G to be a major gamechanger for Edu-tech platforms\n"
     ]
    }
   ],
   "source": [
    "from bs4 import BeautifulSoup\n",
    "import requests\n",
    "\n",
    "url = 'https://medium.com/codingninjas-blog'\n",
    "\n",
    "# Send a GET request to the URL\n",
    "response = requests.get(url)\n",
    "\n",
    "# Check if the request was successful (status code 200)\n",
    "if response.status_code == 200:\n",
    "    # Parse the HTML content of the webpage\n",
    "    soup = BeautifulSoup(response.text, 'html.parser')\n",
    "    title = soup.find_all('h3')\n",
    "    for i in title[:5]:\n",
    "        print(i.string)"
   ]
  },
  {
   "cell_type": "code",
   "execution_count": null,
   "id": "347ccc18",
   "metadata": {},
   "outputs": [],
   "source": []
  }
 ],
 "metadata": {
  "kernelspec": {
   "display_name": "Python 3 (ipykernel)",
   "language": "python",
   "name": "python3"
  },
  "language_info": {
   "codemirror_mode": {
    "name": "ipython",
    "version": 3
   },
   "file_extension": ".py",
   "mimetype": "text/x-python",
   "name": "python",
   "nbconvert_exporter": "python",
   "pygments_lexer": "ipython3",
   "version": "3.10.9"
  }
 },
 "nbformat": 4,
 "nbformat_minor": 5
}
